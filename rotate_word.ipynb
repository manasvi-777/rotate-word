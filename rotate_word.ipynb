{
 "cells": [
  {
   "cell_type": "code",
   "execution_count": 1,
   "id": "5bc52047",
   "metadata": {},
   "outputs": [
    {
     "data": {
      "text/plain": [
       "'Encrypt a given message by “rotating” each letter by a fixed number of places. To rotate a letter means to shift it through the alphabet, wrapping around to the beginning if necessary, so ‘A’ rotated by 3 is ‘D’ and ‘Z’ rotated by 1 is ‘A’. Write a function called rotate_word that takes a string and an integer as parameters, and returns a new string that contains the letters from the original string rotated by the given amount. Check whether the output string has the vowels in the beginning and at the end of the string. If the condition satisfies, display the message “Happy Cool String” else display “Happy Hot String”\\n\\nTest Case1:\\nInput:\\nHAL\\n2\\nOutput:\\nJCN\\nHappy Hot String\\n\\nTest Case2:\\nInput:\\nDAN\\n1\\nOutput:\\nEBO\\nHappy Cool String'"
      ]
     },
     "execution_count": 1,
     "metadata": {},
     "output_type": "execute_result"
    }
   ],
   "source": [
    "'''Encrypt a given message by “rotating” each letter by a fixed number of places. To rotate a letter means to shift it through the alphabet, wrapping around to the beginning if necessary, so ‘A’ rotated by 3 is ‘D’ and ‘Z’ rotated by 1 is ‘A’. Write a function called rotate_word that takes a string and an integer as parameters, and returns a new string that contains the letters from the original string rotated by the given amount. Check whether the output string has the vowels in the beginning and at the end of the string. If the condition satisfies, display the message “Happy Cool String” else display “Happy Hot String”\n",
    "\n",
    "Test Case1:\n",
    "Input:\n",
    "HAL\n",
    "2\n",
    "Output:\n",
    "JCN\n",
    "Happy Hot String\n",
    "\n",
    "Test Case2:\n",
    "Input:\n",
    "DAN\n",
    "1\n",
    "Output:\n",
    "EBO\n",
    "Happy Cool String'''"
   ]
  },
  {
   "cell_type": "code",
   "execution_count": 4,
   "id": "cc0fea3f",
   "metadata": {},
   "outputs": [
    {
     "name": "stdout",
     "output_type": "stream",
     "text": [
      "dan\n",
      "1\n",
      "EBO\n",
      "Happy Cool String\n"
     ]
    }
   ],
   "source": [
    "string_=input()\n",
    "places=int(input())\n",
    "dict_alphabets={'A':1,'B':2,'C':3,'D':4,'E':5,'F':6,'G':7,'H':8,'I':9,'J':10,'K':11,'L':12,'M':13,'N':14,'O':15,'P':16,'Q':17,'R':18,'S':19,'T':20,'U':21,'V':22,'W':23,'X':24,'Y':25,'Z':26}\n",
    "reversed_dict_alphabets={value:key for (key,value) in dict_alphabets.items()}\n",
    "vowels=['A','E','I','O','U']\n",
    "def rotate_word(string1,integer1):\n",
    "    new_string=\"\"\n",
    "    for i in string1:\n",
    "        i=i.upper()\n",
    "        position=dict_alphabets[i]\n",
    "        position+=places\n",
    "        new_val=reversed_dict_alphabets[position]\n",
    "        new_string+=new_val\n",
    "    return new_string\n",
    "\n",
    "print(rotate_word(string_,places))\n",
    "\n",
    "if rotate_word(string_,places)[0] in vowels and rotate_word(string_,places)[-1] in vowels:\n",
    "    print(\"Happy Cool String\")\n",
    "else:\n",
    "    print(\"Happy Hot String\")"
   ]
  }
 ],
 "metadata": {
  "kernelspec": {
   "display_name": "Python 3 (ipykernel)",
   "language": "python",
   "name": "python3"
  },
  "language_info": {
   "codemirror_mode": {
    "name": "ipython",
    "version": 3
   },
   "file_extension": ".py",
   "mimetype": "text/x-python",
   "name": "python",
   "nbconvert_exporter": "python",
   "pygments_lexer": "ipython3",
   "version": "3.9.13"
  }
 },
 "nbformat": 4,
 "nbformat_minor": 5
}
